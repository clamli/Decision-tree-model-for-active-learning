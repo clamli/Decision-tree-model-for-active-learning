{
 "cells": [
  {
   "cell_type": "code",
   "execution_count": 5,
   "metadata": {},
   "outputs": [],
   "source": [
    "import pandas as pd\n",
    "import numpy as np"
   ]
  },
  {
   "cell_type": "code",
   "execution_count": 1,
   "metadata": {},
   "outputs": [],
   "source": [
    "def loadData(flieName):  \n",
    "    inFile = open(flieName, 'r')\n",
    "    x = []  \n",
    "    y = []    \n",
    "    z = [] \n",
    "    t = []\n",
    "    for line in inFile:  \n",
    "        trainingSet = line.split('::')  \n",
    "        x.append(int(trainingSet[0]))\n",
    "        y.append(int(trainingSet[1])) \n",
    "        z.append(float(trainingSet[2])) \n",
    "        t.append(trainingSet[3])\n",
    "\n",
    "    return (x, y, z, t)"
   ]
  },
  {
   "cell_type": "code",
   "execution_count": 14,
   "metadata": {},
   "outputs": [],
   "source": [
    "ratingsFrame = pd.DataFrame(np.array(loadData(\"ml-1m/ratings.dat\"))).T.loc[:,0:2]\n",
    "# ratingsFrame.columns = ['userID','itemID','rating']\n",
    "ratingsFrame[0] = ratingsFrame[0].astype('int')\n",
    "ratingsFrame[1] = ratingsFrame[1].astype('int')\n",
    "ratingsFrame[2] = ratingsFrame[2].astype('float')"
   ]
  },
  {
   "cell_type": "code",
   "execution_count": 3,
   "metadata": {},
   "outputs": [],
   "source": [
    "catagory = \"Cell_Phones_and_Accessories\"\n",
    "item_data = 'item_metadata/meta_' + catagory + '.csv'\n",
    "rating_data = 'user_ratings/' + catagory + '.csv'"
   ]
  },
  {
   "cell_type": "code",
   "execution_count": 2,
   "metadata": {},
   "outputs": [],
   "source": [
    "ratingsFrame = pd.read_csv(rating_data)\n",
    "itemsFrame = pd.read_csv(item_data)"
   ]
  },
  {
   "cell_type": "code",
   "execution_count": 8,
   "metadata": {},
   "outputs": [],
   "source": [
    "from pyspark.sql import SparkSession\n",
    "\n",
    "spark = SparkSession \\\n",
    "    .builder \\\n",
    "    .appName(\"Python Spark SQL basic example\") \\\n",
    "    .config(\"spark.some.config.option\", \"some-value\") \\\n",
    "    .getOrCreate()"
   ]
  },
  {
   "cell_type": "code",
   "execution_count": 16,
   "metadata": {},
   "outputs": [],
   "source": [
    "from pyspark.ml.evaluation import RegressionEvaluator\n",
    "from pyspark.ml.recommendation import ALS\n",
    "from pyspark.sql import Row\n",
    "\n",
    "# Load a text file and convert each line to a Row.\n",
    "ratings = ratingsFrame.to_records(index=False).tolist()\n",
    "dataset = spark.createDataFrame(ratings,[\"userId\", \"ProductId\", \"rating\"])\n",
    "# lines = spark.read.text(rating_data).rdd\n",
    "# parts = lines.map(lambda row: row.value.split(\",\"))\n",
    "# parts.count()"
   ]
  },
  {
   "cell_type": "code",
   "execution_count": 5,
   "metadata": {},
   "outputs": [
    {
     "data": {
      "text/plain": [
       "[Row(ProductId=0, rating=5.0, userId=20),\n",
       " Row(ProductId=1, rating=5.0, userId=62),\n",
       " Row(ProductId=1, rating=5.0, userId=65)]"
      ]
     },
     "execution_count": 5,
     "metadata": {},
     "output_type": "execute_result"
    }
   ],
   "source": [
    "# ratingsRDD = parts.map(lambda p: Row(userId=int(p[0]), ProductId=int(p[1]),\n",
    "#                                      rating=float(p[2])))\n",
    "ratings = spark.createDataFrame(ratingsRDD)\n",
    "(training, test) = ratings.randomSplit([0.8, 0.2])\n",
    "test.head(3)"
   ]
  },
  {
   "cell_type": "code",
   "execution_count": 6,
   "metadata": {},
   "outputs": [],
   "source": [
    "# Build the recommendation model using ALS on the training data\n",
    "# Note we set cold start strategy to 'drop' to ensure we don't get NaN evaluation metrics\n",
    "als = ALS(maxIter=5, regParam=0.01, userCol=\"userId\", itemCol=\"ProductId\", ratingCol=\"rating\",\n",
    "          coldStartStrategy=\"drop\")"
   ]
  },
  {
   "cell_type": "code",
   "execution_count": 7,
   "metadata": {},
   "outputs": [],
   "source": [
    "model = als.fit(training)"
   ]
  },
  {
   "cell_type": "code",
   "execution_count": 8,
   "metadata": {},
   "outputs": [],
   "source": [
    "# Evaluate the model by computing the RMSE on the test data\n",
    "predictions = model.transform(test)\n",
    "evaluator = RegressionEvaluator(metricName=\"rmse\", labelCol=\"rating\",\n",
    "                                predictionCol=\"prediction\")"
   ]
  },
  {
   "cell_type": "code",
   "execution_count": 9,
   "metadata": {},
   "outputs": [],
   "source": [
    "rmse = evaluator.evaluate(predictions)"
   ]
  },
  {
   "cell_type": "code",
   "execution_count": 10,
   "metadata": {},
   "outputs": [
    {
     "name": "stdout",
     "output_type": "stream",
     "text": [
      "Root-mean-square error = 1.4078966863240838\n"
     ]
    }
   ],
   "source": [
    "print(\"Root-mean-square error = \" + str(rmse))\n",
    "\n",
    "# Generate top 10 movie recommendations for each user\n",
    "userRecs = model.recommendForAllUsers(10)\n",
    "# Generate top 10 user recommendations for each movie\n",
    "movieRecs = model.recommendForAllItems(10)"
   ]
  },
  {
   "cell_type": "code",
   "execution_count": null,
   "metadata": {},
   "outputs": [],
   "source": []
  },
  {
   "cell_type": "code",
   "execution_count": null,
   "metadata": {},
   "outputs": [],
   "source": []
  },
  {
   "cell_type": "code",
   "execution_count": null,
   "metadata": {},
   "outputs": [],
   "source": []
  },
  {
   "cell_type": "code",
   "execution_count": null,
   "metadata": {},
   "outputs": [],
   "source": []
  },
  {
   "cell_type": "code",
   "execution_count": null,
   "metadata": {},
   "outputs": [],
   "source": []
  },
  {
   "cell_type": "code",
   "execution_count": null,
   "metadata": {},
   "outputs": [],
   "source": [
    "Cell_Phones_and_Accessories : 1.1990174729619572\n",
    "    users:    90.0\n",
    "    items:    115.0\n",
    "    ratings:    1854\n",
    "    ratio:    0.179130434783\n",
    "Grocery_and_Gourmet_Food : 1.5124280016578064\n",
    "    users:    1748.0\n",
    "    items:    548.0\n",
    "    ratings:    37348\n",
    "    ratio:    0.0389892932904\n",
    "CDs_and_Vinyl: 1.9617218828545564\n",
    "    users:    15591.0\n",
    "    items:    16183.0\n",
    "    ratings:    445412\n",
    "    ratio:    0.00176534221888\n",
    "Movies_and_TV : 1.7274201662946715\n",
    "    users:    33325.0\n",
    "    items:    21900.0\n",
    "    ratings:    958986\n",
    "    ratio:    0.00131400795404"
   ]
  },
  {
   "cell_type": "code",
   "execution_count": null,
   "metadata": {},
   "outputs": [],
   "source": [
    "Video_Games : 3.9319703276510016\n",
    "Electronics: 5.129375041478559\n",
    "Kindle_Store : 2.9681531710437223\n",
    "Books : 2.866274719315073"
   ]
  },
  {
   "cell_type": "code",
   "execution_count": null,
   "metadata": {},
   "outputs": [],
   "source": [
    "Video_Games:\n",
    "    users:    2815.0\n",
    "    items:    2140.0\n",
    "    ratings:    52158\n",
    "    ratio:    0.00865822280507\n",
    "Electronics:\n",
    "    users:    20246.0\n",
    "    items:    11588.0\n",
    "    ratings:    347393\n",
    "    ratio:    0.00148072136948\n",
    "Kindle_Store:\n",
    "    users:    14355.0\n",
    "    items:    15884.0\n",
    "    ratings:    367478\n",
    "    ratio:    0.00161164085738\n",
    "Books:\n",
    "    users:    158649.0\n",
    "    items:    128938.0\n",
    "    ratings:    4701968\n",
    "    ratio:    0.000229858940579"
   ]
  }
 ],
 "metadata": {
  "kernelspec": {
   "display_name": "Python 3",
   "language": "python",
   "name": "python3"
  },
  "language_info": {
   "codemirror_mode": {
    "name": "ipython",
    "version": 3
   },
   "file_extension": ".py",
   "mimetype": "text/x-python",
   "name": "python",
   "nbconvert_exporter": "python",
   "pygments_lexer": "ipython3",
   "version": "3.6.2"
  }
 },
 "nbformat": 4,
 "nbformat_minor": 2
}
