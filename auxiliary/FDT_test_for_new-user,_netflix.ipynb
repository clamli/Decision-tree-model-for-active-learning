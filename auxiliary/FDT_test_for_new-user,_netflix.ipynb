{
 "cells": [
  {
   "cell_type": "markdown",
   "metadata": {},
   "source": [
    "## FDTree Class"
   ]
  },
  {
   "cell_type": "code",
   "execution_count": 13,
   "metadata": {},
   "outputs": [],
   "source": [
    "import numpy as np\n",
    "import pickle\n",
    "from scipy.sparse import *\n",
    "import shelve\n",
    "import pickle\n",
    "\n",
    "class DecisionTreeModel:\n",
    "    def __init__(self, source, depth_threshold=10, plambda=7, MSP_item=200):\n",
    "\n",
    "        x = find(source)\n",
    "        itemset = x[0]\n",
    "        userset = x[1]\n",
    "        self.rU = {}\n",
    "        \n",
    "        #### Generate rI, rU ####\n",
    "        print(\"rU Generation start:\")\n",
    "\n",
    "        num_ratings = len(userset)\n",
    "        i = 0\n",
    "        for itemid, userid in zip(itemset, userset):\n",
    "            n_i = int(userid/24)  \n",
    "            if i%100000 == 0:\n",
    "                print(\"%.2f%%\" %(100*i/num_ratings))\n",
    "            i += 1\n",
    "            if n_i in self.rU:\n",
    "                self.rU[n_i].setdefault(userid, {})[itemid] = int(source[itemid, userid])\n",
    "            else:\n",
    "                self.rU.setdefault(n_i, {userid: {itemid: int(source[itemid, userid])}})\n",
    "                \n",
    "                \n",
    "        print(\"rU Generation DONE\")\n",
    "\n",
    "        print(\"Initiation DONE!\")"
   ]
  },
  {
   "cell_type": "markdown",
   "metadata": {},
   "source": [
    "## Step 1: Input Dataset"
   ]
  },
  {
   "cell_type": "code",
   "execution_count": 14,
   "metadata": {},
   "outputs": [],
   "source": [
    "from scipy.sparse import load_npz"
   ]
  },
  {
   "cell_type": "code",
   "execution_count": 15,
   "metadata": {},
   "outputs": [
    {
     "name": "stdout",
     "output_type": "stream",
     "text": [
      "file load DONE\n"
     ]
    }
   ],
   "source": [
    "############### Load Data ##################\n",
    "rating_matrix_csc = load_npz('netflix/sparse_matrix_100%.npz').tocsc()\n",
    "print(\"file load DONE\")\n",
    "############################################"
   ]
  },
  {
   "cell_type": "code",
   "execution_count": 16,
   "metadata": {},
   "outputs": [],
   "source": [
    "''' Save to file 'tree.pkl' '''\n",
    "start = 0\n",
    "end = int(rating_matrix_csc.shape[1] * 0.75)"
   ]
  },
  {
   "cell_type": "code",
   "execution_count": 18,
   "metadata": {},
   "outputs": [
    {
     "name": "stdout",
     "output_type": "stream",
     "text": [
      "rU Generation start:\n",
      "0.00%\n",
      "rU Generation DONE\n",
      "Initiation DONE!\n"
     ]
    }
   ],
   "source": [
    "dt_model = DecisionTreeModel(rating_matrix_csc[0:100,0:1000])"
   ]
  },
  {
   "cell_type": "code",
   "execution_count": null,
   "metadata": {},
   "outputs": [],
   "source": [
    "del rating_matrix_csc"
   ]
  },
  {
   "cell_type": "code",
   "execution_count": 21,
   "metadata": {},
   "outputs": [
    {
     "name": "stdout",
     "output_type": "stream",
     "text": [
      "DONE!\n"
     ]
    }
   ],
   "source": [
    "for dictname in dt_model.rU:\n",
    "    d = shelve.open('./rU_data/'+str(dictname), protocol = pickle.HIGHEST_PROTOCOL)\n",
    "    d['content'] = dt_model.rU[dictname]\n",
    "    d.close()\n",
    "print(\"DONE!\")"
   ]
  },
  {
   "cell_type": "code",
   "execution_count": 25,
   "metadata": {},
   "outputs": [],
   "source": [
    "dictt = {}\n",
    "for dictname in range(151):\n",
    "    d = shelve.open('./rU_data/'+str(dictname), protocol = pickle.HIGHEST_PROTOCOL)\n",
    "    dictt.update(d['content'])\n",
    "    d.close()"
   ]
  },
  {
   "cell_type": "code",
   "execution_count": 28,
   "metadata": {},
   "outputs": [
    {
     "name": "stdout",
     "output_type": "stream",
     "text": [
      "360141\n"
     ]
    }
   ],
   "source": [
    "print(len(dictt.keys()))"
   ]
  },
  {
   "cell_type": "code",
   "execution_count": null,
   "metadata": {},
   "outputs": [],
   "source": []
  }
 ],
 "metadata": {
  "kernelspec": {
   "display_name": "Python 3",
   "language": "python",
   "name": "python3"
  },
  "language_info": {
   "codemirror_mode": {
    "name": "ipython",
    "version": 3
   },
   "file_extension": ".py",
   "mimetype": "text/x-python",
   "name": "python",
   "nbconvert_exporter": "python",
   "pygments_lexer": "ipython3",
   "version": "3.6.3"
  }
 },
 "nbformat": 4,
 "nbformat_minor": 2
}
