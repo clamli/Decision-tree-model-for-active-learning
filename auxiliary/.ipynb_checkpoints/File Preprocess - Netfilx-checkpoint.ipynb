{
 "cells": [
  {
   "cell_type": "markdown",
   "metadata": {},
   "source": [
    "## Read file function"
   ]
  },
  {
   "cell_type": "code",
   "execution_count": null,
   "metadata": {},
   "outputs": [],
   "source": [
    "def loadData(movie):      \n",
    "    movie = str(movie).zfill(5)\n",
    "    fileName = \"../netflix/training_set/mv_00\" + str(movie) + \".txt\"\n",
    "    inFile = open(fileName, 'r')\n",
    "    userID = []  \n",
    "    rating = [] \n",
    "    movieID = 0\n",
    "    isMovieID = True\n",
    "    for line in inFile:  \n",
    "        if isMovieID == False:\n",
    "            data = line.split(',')  \n",
    "            userID.append(int(data[0]))\n",
    "            rating.append(float(data[1])) \n",
    "        else:\n",
    "            isMovieID = False\n",
    "    return (userID, rating)"
   ]
  },
  {
   "cell_type": "markdown",
   "metadata": {},
   "source": [
    "## Read in 17770 files into a sparse matrix"
   ]
  },
  {
   "cell_type": "code",
   "execution_count": null,
   "metadata": {},
   "outputs": [],
   "source": [
    "rating_matrix_coo = coo_matrix(([], ([], [])), shape=(1, 2649430))\n",
    "movieID = 1\n",
    "for n in range(17770):    \n",
    "    if n % 10 == 0:\n",
    "        print(\"%.2f%%\" %(100*n/17770))\n",
    "    user_lst, rating_lst = loadData(movieID)\n",
    "    movieID = movieID + 1\n",
    "    row = []\n",
    "    col = []\n",
    "    rating_data = []\n",
    "    for i in range(len(user_lst)):\n",
    "        row.append(0)\n",
    "        col.append(user_lst[i])\n",
    "        rating_data.append(rating_lst[i])\n",
    "    single_rating_matrix_coo = coo_matrix((rating_data, (row, col)), shape=(1, 2649430))\n",
    "    rating_matrix_coo = vstack([rating_matrix_coo, single_rating_matrix_coo])"
   ]
  },
  {
   "cell_type": "markdown",
   "metadata": {},
   "source": [
    "## save sparse matrix to file"
   ]
  },
  {
   "cell_type": "code",
   "execution_count": null,
   "metadata": {},
   "outputs": [],
   "source": [
    "scipy.sparse.save_npz('../netflix/sparse_matrix.npz', rating_matrix_coo)"
   ]
  }
 ],
 "metadata": {
  "kernelspec": {
   "display_name": "Python 3",
   "language": "python",
   "name": "python3"
  },
  "language_info": {
   "codemirror_mode": {
    "name": "ipython",
    "version": 3
   },
   "file_extension": ".py",
   "mimetype": "text/x-python",
   "name": "python",
   "nbconvert_exporter": "python",
   "pygments_lexer": "ipython3",
   "version": "3.6.2"
  }
 },
 "nbformat": 4,
 "nbformat_minor": 2
}
