{
 "cells": [
  {
   "cell_type": "code",
   "execution_count": 1,
   "metadata": {},
   "outputs": [],
   "source": [
    "import pandas as pd\n",
    "\n",
    "catagory = \"Grocery_and_Gourmet_Food\"\n",
    "item_data = 'item_metadata/meta_' + catagory + '.csv'\n",
    "rating_data = 'user_ratings/' + catagory + '.csv'\n",
    "\n",
    "ratingsFrame = pd.read_csv(rating_data, names = [\"userID\", \"itemID\", \"rating\"])\n",
    "ratingsFrame.sort_values(by = 'itemID', ascending=True, inplace=True)\n",
    "rating_train = ratingsFrame.to_records(index=False).tolist()\n",
    "# ratingsFrame\n",
    "# rating_test = ratingsFrame[int(ratingsFrame.shape[0]*0.7):].to_records(index=False).tolist()"
   ]
  },
  {
   "cell_type": "code",
   "execution_count": 2,
   "metadata": {},
   "outputs": [],
   "source": [
    "from pyspark.mllib.recommendation import ALS\n",
    "from pyspark.sql import SparkSession\n",
    "\n",
    "class MatrixFactorization:\n",
    "    def __init__(self, maxIter = 15, regParam = 0.01, rank = 10):\n",
    "        self.maxIter = maxIter\n",
    "        self.regParam = regParam  \n",
    "        self.rank = rank  \n",
    "        self.spark = SparkSession \\\n",
    "                .builder \\\n",
    "                .appName(\"Python Spark SQL basic example\") \\\n",
    "                .config(\"spark.some.config.option\", \"some-value\") \\\n",
    "                .getOrCreate()\n",
    "        \n",
    "    def matrix_factorization(self, train_lst):\n",
    "        \n",
    "        ratings = self.spark.createDataFrame(train_lst)\n",
    "        model = ALS.train(ratings, self.rank, seed=10, \\\n",
    "                          iterations = self.maxIter, \\\n",
    "                          lambda_ = self.regParam)\n",
    "        print(\"MF DONE\")\n",
    "        userFeatures = sorted(model.userFeatures().collect(), key=lambda d:d[0], reverse = False)\n",
    "        productFeatures = sorted(model.productFeatures().collect(), key=lambda d:d[0], reverse = False)\n",
    "        userProfile = [each[1].tolist() for each in userFeatures]\n",
    "        itemProfile = [each[1].tolist() for each in productFeatures]\n",
    "            \n",
    "        return userProfile, itemProfile\n",
    "    \n",
    "    def end(self):\n",
    "        self.spark.stop()"
   ]
  },
  {
   "cell_type": "code",
   "execution_count": 3,
   "metadata": {},
   "outputs": [],
   "source": [
    "mf = MatrixFactorization()"
   ]
  },
  {
   "cell_type": "code",
   "execution_count": 4,
   "metadata": {},
   "outputs": [
    {
     "name": "stdout",
     "output_type": "stream",
     "text": [
      "MF DONE\n",
      "MF DONE\n",
      "MF DONE\n",
      "MF DONE\n",
      "MF DONE\n"
     ]
    }
   ],
   "source": [
    "for i in range(5):\n",
    "    rating_train = [(0, 0, 2.9999999992499999), (0, 1, 2.6666666657777776), (0, 2, 2.9999999989999999), (0, 3, 1.9999999979999998), (0, 4, 3.3333333322222223)]\n",
    "    userProfile, itemProfile = mf.matrix_factorization(rating_train)"
   ]
  },
  {
   "cell_type": "code",
   "execution_count": 6,
   "metadata": {},
   "outputs": [],
   "source": [
    "mf.end()"
   ]
  },
  {
   "cell_type": "code",
   "execution_count": null,
   "metadata": {},
   "outputs": [],
   "source": []
  }
 ],
 "metadata": {
  "kernelspec": {
   "display_name": "Python 3",
   "language": "python",
   "name": "python3"
  },
  "language_info": {
   "codemirror_mode": {
    "name": "ipython",
    "version": 3
   },
   "file_extension": ".py",
   "mimetype": "text/x-python",
   "name": "python",
   "nbconvert_exporter": "python",
   "pygments_lexer": "ipython3",
   "version": "3.6.2"
  }
 },
 "nbformat": 4,
 "nbformat_minor": 2
}
