{
 "cells": [
  {
   "cell_type": "markdown",
   "metadata": {},
   "source": [
    "## FDTree Class"
   ]
  },
  {
   "cell_type": "code",
   "execution_count": 3,
   "metadata": {
    "collapsed": true
   },
   "outputs": [],
   "source": [
    "import time\n",
    "import klepto\n",
    "import shelve\n",
    "import pickle\n",
    "import numpy as np\n",
    "from scipy.sparse import *"
   ]
  },
  {
   "cell_type": "code",
   "execution_count": 4,
   "metadata": {
    "collapsed": false
   },
   "outputs": [
    {
     "name": "stdout",
     "output_type": "stream",
     "text": [
      "file load DONE\n"
     ]
    }
   ],
   "source": [
    "rating_matrix_csc = load_npz('netflix/sparse_matrix_100%.npz').tocsc()\n",
    "rating_matrix_val_csc = load_npz('netflix/sparse_matrix_validation_75%.npz').tocsc()\n",
    "print(\"file load DONE\")"
   ]
  },
  {
   "cell_type": "code",
   "execution_count": 5,
   "metadata": {
    "collapsed": true
   },
   "outputs": [],
   "source": [
    "start = 0\n",
    "end = int(rating_matrix_csc.shape[1] * 0.75)"
   ]
  },
  {
   "cell_type": "markdown",
   "metadata": {},
   "source": [
    "## Step 1: Input Dataset"
   ]
  },
  {
   "cell_type": "code",
   "execution_count": 4,
   "metadata": {
    "collapsed": true
   },
   "outputs": [],
   "source": [
    "class DecisionTreeModel:\n",
    "    def __init__(self, source, depth_threshold=10, plambda=7, MSP_item=200):\n",
    "        \n",
    "        self.sMatrix = source\n",
    "        self.depth_threshold = depth_threshold\n",
    "        self.plambda = plambda\n",
    "        self.MSP_item = MSP_item\n",
    "\n",
    "        #### Calculate rate of progress ####\n",
    "        self.cur_depth = 0\n",
    "        self.node_num = 0\n",
    "        self.cur_node = 0\n",
    "        for i in range(self.depth_threshold):\n",
    "            self.node_num += 3 ** i\n",
    "        \n",
    "        #### Initiate Tree, lr_bound ####\n",
    "        self.tree = list(range(1, self.sMatrix.shape[1]))\n",
    "        self.split_item = []\n",
    "        self.lr_bound = {'0': [[0, len(self.tree) - 1]]}\n",
    "\n",
    "        #### Generate bias, sum_cur_t, sum_2_cur_t ####\n",
    "        #### Generate rI, rU ####        \n",
    "        self.rU = {}        \n",
    "        for dictname in range(151):\n",
    "            d = shelve.open('./rU_data/'+str(dictname), protocol = pickle.HIGHEST_PROTOCOL)\n",
    "            self.rU.update(d['content'])\n",
    "            d.close()\n",
    "        print(\"rU DONE\")\n",
    "        \n",
    "#         self.biasUM = load_npz('netflix/biasUM.npz').tocsc()\n",
    "#         print(\"biasUM DONE\")\n",
    "        \n",
    "        Tree = klepto.archives.dir_archive('treeFile', {}, serialized=True)\n",
    "        Tree.load()\n",
    "        self.biasU       = Tree[\"biasU\"]\n",
    "        self.sum_cur_t   = Tree[\"sum_cur_t\"]\n",
    "        self.sum_2_cur_t = Tree[\"sum_2_cur_t\"]\n",
    "        self.sum_cntt    = Tree[\"sum_cntt\"]\n",
    "        self.rI          = Tree[\"rI\"]\n",
    "        self.item_size = self.sMatrix.shape[0]\n",
    "        self.user_size = len(self.tree)        \n",
    "        print(\"Initiation DONE!\")\n",
    "\n",
    "    def calculate_error(self, sumt, sumt_2, cntt):\n",
    "        ''' Calculate error for one item-split in one node '''\n",
    "        Error_i = np.sum(sumt_2 - (sumt ** 2) / (cntt + 1e-9))\n",
    "\n",
    "        return Error_i\n",
    "\n",
    "    def generate_decision_tree(self, lr_bound_for_node, chosen_id):\n",
    "        #### Terminate ####\n",
    "        self.cur_depth += 1\n",
    "        if self.cur_depth > self.depth_threshold or len(chosen_id) == self.item_size:\n",
    "            return        \n",
    "        #### Choose Most Popular Items of This Node ####\n",
    "        num_rec = np.zeros(self.item_size)\n",
    "        for userid in self.tree[lr_bound_for_node[0]:(lr_bound_for_node[1] + 1)]:\n",
    "            user_all_rating_id = np.array(list(self.rU[userid].keys()))\n",
    "            num_rec[user_all_rating_id] += 1\n",
    "        sub_item_id = np.argsort(-num_rec)[:self.MSP_item]\n",
    "        #### Find optimum item to split ####\n",
    "        min_sumtL, min_sumtD, min_sumtL_2, min_sumtD_2, min_sumtU, min_sumtU_2, Error = {}, {}, {}, {}, {}, {}, {}\n",
    "        min_Error = \"None\"\n",
    "        for itemid in sub_item_id:\n",
    "            if itemid in chosen_id:\n",
    "                continue\n",
    "            '''\n",
    "                user_rating_item_in_nodet: np.array([ [uid01, rating01], [uid02, rating02], ... ])\n",
    "                to find all users in node t who rates item i\n",
    "            '''           \n",
    "            user_rating_item_in_nodet = np.array([[userid, self.rU[userid][itemid]] for userid in\n",
    "                                         self.tree[lr_bound_for_node[0]:(lr_bound_for_node[1] + 1)] if\n",
    "                                         itemid in self.rU[userid]])\n",
    "#             sumt = np.zeros((self.item_size, 3))\n",
    "#             sumt_2 = np.zeros((self.item_size, 3))\n",
    "#             cntt = np.zeros((self.item_size, 3))\n",
    "\n",
    "#             lst_L = list(user_rating_item_in_nodet[user_rating_item_in_nodet[:, 1] >= 4, 0])\n",
    "#             lst_D = list(user_rating_item_in_nodet[user_rating_item_in_nodet[:, 1] <= 3, 0])\n",
    "\n",
    "#             realML = self.sMatrix[:, lst_L] - self.biasUM[:, lst_L]\n",
    "#             realMD = self.sMatrix[:, lst_D] - self.biasUM[:, lst_D]\n",
    "#             sumt[:, 0] = (realML).sum(axis=1).T\n",
    "#             sumt_2[:, 0] = (realML.power(2)).sum(axis=1).T\n",
    "#             cntt[:, 0] = self.sMatrix[:, lst_L].getnnz(axis=1).T\n",
    "#             sumt[:, 1] = (realMD).sum(axis=1).T\n",
    "#             sumt_2[:, 1] = (realMD.power(2)).sum(axis=1).T\n",
    "#             cntt[:, 1] = self.sMatrix[:, lst_L].getnnz(axis=1).T            \n",
    "            sumt = np.zeros((self.item_size, 3))\n",
    "            sumt_2 = np.zeros((self.item_size, 3))\n",
    "            cntt = np.zeros((self.item_size, 3))\n",
    "            for user in user_rating_item_in_nodet:\n",
    "                ''' user_all_rating: array [ [itemid11, rating11], [itemid12, rating12], ... ] '''\n",
    "                user_all_rating_id = np.array(list(self.rU[user[0]].keys()))\n",
    "                user_all_rating = np.array(list(self.rU[user[0]].values()))\n",
    "                #### calculate sumtL for node LIKE ####\n",
    "                if user[1] >= 4:\n",
    "                    sumt[user_all_rating_id[:], 0] += user_all_rating[:] - self.biasU[user[0]]\n",
    "                    sumt_2[user_all_rating_id[:], 0] += (user_all_rating[:] - self.biasU[user[0]]) ** 2\n",
    "                    cntt[user_all_rating_id[:], 0] += 1\n",
    "                #### calculate sumtD for node DISLIKE ####\n",
    "                elif user[1] <= 3:\n",
    "                    sumt[user_all_rating_id[:], 1] += user_all_rating[:] - self.biasU[user[0]]\n",
    "                    sumt_2[user_all_rating_id[:], 1] += (user_all_rating[:] - self.biasU[user[0]]) ** 2\n",
    "                    cntt[user_all_rating_id[:], 1] += 1\n",
    "\n",
    "            #### calculate sumtU for node UNKNOWN ####\n",
    "            sumt[:, 2] = self.sum_cur_t[:] - sumt[:, 0] - sumt[:, 1]\n",
    "            sumt_2[:, 2] = self.sum_2_cur_t[:] - sumt_2[:, 0] - sumt_2[:, 1]\n",
    "            cntt[:, 2] = self.sum_cntt[:] - cntt[:, 0] - cntt[:, 1]\n",
    "            Error[itemid] = self.calculate_error(sumt, sumt_2, cntt)\n",
    "\n",
    "            if min_Error == \"None\" or Error[itemid] < min_Error:\n",
    "                min_sumt = sumt\n",
    "                min_sumt_2 = sumt_2\n",
    "                min_cntt = cntt\n",
    "                min_Error = Error[itemid]\n",
    "        #### Find optimum split-item ####\n",
    "        optimum_itemid = min(Error, key=Error.get)\n",
    "        if len(self.split_item) == self.cur_depth - 1:\n",
    "            self.split_item.append([optimum_itemid])\n",
    "        else:\n",
    "            self.split_item[self.cur_depth - 1].append(optimum_itemid)\n",
    "        # self.split_item.setdefault(str(self.cur_depth-1), []).append(optimum_itemid)\n",
    "        chosen_id.append(optimum_itemid)\n",
    "        print(\"split item found!\")\n",
    "        #### sort tree ####\n",
    "        self.lr_bound.setdefault(str(self.cur_depth), []).append([])  # for LIKE\n",
    "        self.lr_bound[str(self.cur_depth)].append([])  # for DISLIKE\n",
    "        self.lr_bound[str(self.cur_depth)].append([])  # for UNKNOWN\n",
    "        listU, listL, listD = [], [], []\n",
    "        for userid in self.tree[lr_bound_for_node[0]:(lr_bound_for_node[1] + 1)]:\n",
    "            if optimum_itemid not in self.rU[userid]:\n",
    "                listU.append(userid)\n",
    "            elif self.rU[userid][optimum_itemid] >= 4:\n",
    "                listL.append(userid)\n",
    "            elif self.rU[userid][optimum_itemid] <= 3:\n",
    "                listD.append(userid)\n",
    "        self.tree[lr_bound_for_node[0]:(lr_bound_for_node[1] + 1)] = listL + listD + listU\n",
    "        self.lr_bound[str(self.cur_depth)][-3] = [lr_bound_for_node[0],\n",
    "                                                  lr_bound_for_node[0] + len(listL) - 1]  # for LIKE\n",
    "        self.lr_bound[str(self.cur_depth)][-2] = [lr_bound_for_node[0] + len(listL),\n",
    "                                                  lr_bound_for_node[0] + len(listL) + len(listD) - 1]  # for DISLIKE\n",
    "        self.lr_bound[str(self.cur_depth)][-1] = [lr_bound_for_node[0] + len(listL) + len(listD),\n",
    "                                                  lr_bound_for_node[0] + len(listL) + len(listD) + len(listU) - 1]  # for UNKNOWN\n",
    "\n",
    "        #### Generate Subtree of Node LIKE ####\n",
    "        self.sum_cur_t = min_sumt[:, 0]\n",
    "        self.sum_2_cur_t = min_sumt_2[:, 0]\n",
    "        self.sum_cntt = min_cntt[:, 0]\n",
    "        self.generate_decision_tree(self.lr_bound[str(self.cur_depth)][-3], chosen_id[:])\n",
    "        self.cur_depth -= 1\n",
    "\n",
    "        #### Generate Subtree of Node DISLIKE ####\n",
    "        self.sum_cur_t = min_sumt[:, 1]\n",
    "        self.sum_2_cur_t = min_sumt_2[:, 1]\n",
    "        self.sum_cntt = min_cntt[:, 1]\n",
    "        self.generate_decision_tree(self.lr_bound[str(self.cur_depth)][-2], chosen_id[:])\n",
    "        self.cur_depth -= 1\n",
    "\n",
    "        #### Generate Subtree of Node UNKNOWN ####\n",
    "        self.sum_cur_t = min_sumt[:, 2]\n",
    "        self.sum_2_cur_t = min_sumt_2[:, 2]\n",
    "        self.sum_cntt = min_cntt[:, 2]\n",
    "        self.generate_decision_tree(self.lr_bound[str(self.cur_depth)][-1], chosen_id[:])\n",
    "        self.cur_depth -= 1\n",
    "\n",
    "        #### Show Rating Progress ####\n",
    "        for i in range(self.cur_depth - 1):\n",
    "            print(\"┃\", end=\"\")\n",
    "        print(\"┏\", end=\"\")\n",
    "        self.cur_node += 1\n",
    "        print(\"Current depth: \" + str(self.cur_depth) + \"        %.2f%%\" % (100 * self.cur_node / self.node_num))\n",
    "\n",
    "    def build_model(self):\n",
    "        #### Construct the tree & get the prediction model ####\n",
    "        self.generate_decision_tree(self.lr_bound['0'][0], [])"
   ]
  },
  {
   "cell_type": "markdown",
   "metadata": {},
   "source": [
    "## Tree Init"
   ]
  },
  {
   "cell_type": "code",
   "execution_count": 5,
   "metadata": {
    "collapsed": false,
    "scrolled": true
   },
   "outputs": [
    {
     "name": "stdout",
     "output_type": "stream",
     "text": [
      "rU DONE\n",
      "Initiation DONE!\n"
     ]
    }
   ],
   "source": [
    "dtmodel_realdata = DecisionTreeModel(rating_matrix_csc[:, start:end], depth_threshold = 10)"
   ]
  },
  {
   "cell_type": "markdown",
   "metadata": {},
   "source": [
    "## Build Tree"
   ]
  },
  {
   "cell_type": "code",
   "execution_count": null,
   "metadata": {
    "collapsed": false,
    "scrolled": true
   },
   "outputs": [
    {
     "name": "stdout",
     "output_type": "stream",
     "text": [
      "[    0 13755 11148 11344  4806  6256 11936  8146 12418 16875  4711 16155\n",
      " 13405 10581  4362 10597  9507  9124 12107  8964   820  3656 15197 13064\n",
      "  4294  4338 16354 15587 15571 11500  9549 11838 12363 10640  4614  8858\n",
      " 12964   915 16542  2805 12681  5486  9647 10840  7030  1445  7717  5161\n",
      " 10011  5452 15521  9250 10398  6991  3693  2537 15202  6074 10578  5349\n",
      "  9196  8057 13980 14710 13478  7068  6734  1416 15051 10902  7497  7375\n",
      "  2291  7231  8018  4035 14518  9566 15199   392  3790 13950  8934  7388\n",
      "   149  8305 16996  3578   272  6711  1858  6527  2367 16408  3853  1003\n",
      "  5260 11360  8965  3328  1247 14071 16111  4797 10807 10549  9490  5615\n",
      "  1591  5975  7842  5193  9742 15682 14743  1383 14548  5494  7372  4880\n",
      "  2744 14490  6426  6393  1198  5619  5584 10049  4605 10931  3069 17336\n",
      " 16013  2725  9172  1952  6539  6743  4574 14125  7522 12341 12829  9979\n",
      " 15789 13759  8723 10546 10427 15056  5500  5923 15656 15665 17660  6894\n",
      "  8059 12204  4837  6059  4457  2745  7480  8459  3109 11821  6725 11359\n",
      "  2534  2799 13631  2637  7284  2426  6925  6626 12783 12217  7319  4896\n",
      " 11216 13213  6124 10059  5597 14102 14893 13870 16511 10122  3083  2318\n",
      "  7548  6244 17073 15650 17018  4903  9163 16413]\n"
     ]
    }
   ],
   "source": [
    "dtmodel_realdata.build_model()"
   ]
  },
  {
   "cell_type": "code",
   "execution_count": 9,
   "metadata": {
    "collapsed": true
   },
   "outputs": [],
   "source": [
    "Tree = klepto.archives.dir_archive('treeFile', cached=True, serialized=True)\n",
    "\n",
    "Tree['fmps_lr_bound'] = dtmodel_realdata.lr_bound\n",
    "Tree['fmps_tree'] = dtmodel_realdata.tree\n",
    "Tree['fmps_split_item'] = dtmodel_realdata.split_item\n",
    "\n",
    "Tree.dump()\n",
    "Tree.clear()"
   ]
  },
  {
   "cell_type": "code",
   "execution_count": 8,
   "metadata": {
    "collapsed": false
   },
   "outputs": [
    {
     "data": {
      "text/plain": [
       "'2017-11-09 08:30:39'"
      ]
     },
     "execution_count": 8,
     "metadata": {},
     "output_type": "execute_result"
    }
   ],
   "source": [
    "time.localtime(time.time())\n",
    "time.strftime('%Y-%m-%d %H:%M:%S',time.localtime(time.time()))"
   ]
  },
  {
   "cell_type": "code",
   "execution_count": 10,
   "metadata": {
    "collapsed": true
   },
   "outputs": [],
   "source": [
    "del dtmodel_realdata"
   ]
  },
  {
   "cell_type": "markdown",
   "metadata": {},
   "source": [
    "## MF part"
   ]
  },
  {
   "cell_type": "code",
   "execution_count": 6,
   "metadata": {
    "collapsed": false
   },
   "outputs": [
    {
     "ename": "ImportError",
     "evalue": "No module named 'pyspark'",
     "output_type": "error",
     "traceback": [
      "\u001b[0;31m---------------------------------------------------------------------------\u001b[0m",
      "\u001b[0;31mImportError\u001b[0m                               Traceback (most recent call last)",
      "\u001b[0;32m<ipython-input-6-055bb37b7ed5>\u001b[0m in \u001b[0;36m<module>\u001b[0;34m()\u001b[0m\n\u001b[0;32m----> 1\u001b[0;31m \u001b[0;32mfrom\u001b[0m \u001b[0mpyspark\u001b[0m \u001b[0;32mimport\u001b[0m \u001b[0mSparkConf\u001b[0m\u001b[0;34m\u001b[0m\u001b[0m\n\u001b[0m\u001b[1;32m      2\u001b[0m \u001b[0;32mfrom\u001b[0m \u001b[0mpyspark\u001b[0m \u001b[0;32mimport\u001b[0m \u001b[0mSparkContext\u001b[0m\u001b[0;34m\u001b[0m\u001b[0m\n\u001b[1;32m      3\u001b[0m \u001b[0;32mfrom\u001b[0m \u001b[0mpyspark\u001b[0m\u001b[0;34m.\u001b[0m\u001b[0mmllib\u001b[0m\u001b[0;34m.\u001b[0m\u001b[0mrecommendation\u001b[0m \u001b[0;32mimport\u001b[0m \u001b[0mALS\u001b[0m\u001b[0;34m\u001b[0m\u001b[0m\n\u001b[1;32m      4\u001b[0m \u001b[0;34m\u001b[0m\u001b[0m\n\u001b[1;32m      5\u001b[0m \u001b[0;32mclass\u001b[0m \u001b[0mMatrixFactorization\u001b[0m\u001b[0;34m:\u001b[0m\u001b[0;34m\u001b[0m\u001b[0m\n",
      "\u001b[0;31mImportError\u001b[0m: No module named 'pyspark'"
     ]
    }
   ],
   "source": [
    "from pyspark import SparkConf\n",
    "from pyspark import SparkContext\n",
    "from pyspark.mllib.recommendation import ALS\n",
    "\n",
    "class MatrixFactorization:\n",
    "    def __init__(self, maxIter=15, regParam=0.01, rank=10):\n",
    "        self.maxIter = maxIter\n",
    "        self.regParam = regParam\n",
    "        self.rank = rank\n",
    "        conf = SparkConf().setAppName(\"appName\").setMaster(\"local[*]\")\n",
    "        conf.set(\"spark.driver.memory\",\"8g\")\n",
    "        conf.set(\"spark.executor.memory\",\"8g\")\n",
    "        self.spark = SparkContext(conf=conf)\n",
    "                    \n",
    "        print(\"New SparkSession started...\")\n",
    "\n",
    "    def change_parameter(self, regParam):\n",
    "        self.regParam = regParam\n",
    "\n",
    "    def matrix_factorization(self, train_lst):\n",
    "        ratings = self.spark.parallelize(train_lst)\n",
    "        print('create dataframe!')\n",
    "        model = ALS.train(ratings, self.rank, seed=10, \\\n",
    "                          iterations=self.maxIter, \\\n",
    "                          lambda_=self.regParam)\n",
    "        print(\"MF DONE\")\n",
    "        userFeatures = sorted(model.userFeatures().collect(), key=lambda d: d[0], reverse=False)\n",
    "        productFeatures = sorted(model.productFeatures().collect(), key=lambda d: d[0], reverse=False)\n",
    "        userProfile = {each[0]: each[1].tolist() for each in userFeatures}\n",
    "        itemProfile = {each[0]: each[1].tolist() for each in productFeatures}\n",
    "        \n",
    "        \n",
    "        return userProfile, itemProfile\n",
    "\n",
    "    def end(self):\n",
    "        self.spark.stop()\n",
    "        print(\"SparkSession stopped.\")"
   ]
  },
  {
   "cell_type": "markdown",
   "metadata": {},
   "source": [
    "## Tool Function"
   ]
  },
  {
   "cell_type": "code",
   "execution_count": 7,
   "metadata": {
    "collapsed": true
   },
   "outputs": [],
   "source": [
    "val_num = rating_matrix_val_csc.getnnz(axis=None)\n",
    "########################################## For Validation #############################################\n",
    "def calculate_avg_rating_for_pesudo_user(pseudo_user_lst, sMatrix):\n",
    "\n",
    "    ret_array = np.zeros(sMatrix.shape[0])\n",
    "    ret_array = np.array(sMatrix[:, pseudo_user_lst].sum(axis=1))[:,0]/(sMatrix[:, pseudo_user_lst].getnnz(axis=1)+1e-9)\n",
    "\n",
    "    return ret_array\n",
    "\n",
    "\n",
    "def pred_RMSE_for_validate_user(user_node_ind, user_profile, item_profile, val_user_list, val_item_list, sMatrix):\n",
    "    print(\"RMSE calculation on valset started.\")\n",
    "    RMSE = 0\n",
    "    i = 0\n",
    "    for userid, itemid in zip(val_user_list, val_item_list):\n",
    "        if i % 100000 == 0:\n",
    "            print(\"%.2f%%\" % (100 * i / val_num))        \n",
    "        i += 1\n",
    "        RMSE += (sMatrix[itemid, userid] - np.dot(user_profile[user_node_ind[userid]], item_profile[itemid]))**2\n",
    "    return (RMSE / len(val_user_list))**0.5\n",
    "\n",
    "def generate_prediction_model(lr_bound, tree, rI, sMatrix, plambda_candidates, validation_set):\n",
    "    ''' lr_bound: dict {\n",
    "                level 0: [[left_bound, right_bound]], users' bound for one level, each ele in dictionary represents one node\n",
    "                level 1: [[left_bound, right_bound], [left_bound, right_bound], [left_bound, right_bound]], 3\n",
    "                level 2: ..., 9\n",
    "            } (bound means index)\n",
    "        plambda_candidates: {\n",
    "            level 0: [clambda1, clambda2, clambda3, ...]\n",
    "            level 1: [clambda1, clambda2, clambda3, ...]\n",
    "            level 2: [clambda1, clambda2, clambda3, ...]\n",
    "        }\n",
    "        prediction_model: dict {\n",
    "                level 0: { 'best_lambda': x, 'user_profile': ..., 'item_profile': ...}\n",
    "                level 1: { 'best_lambda': x, 'user_profile': ..., 'item_profile': ...}\n",
    "                level 2: { 'best_lambda': x, 'user_profile': ..., 'item_profile': ...}\n",
    "            }\n",
    "    '''\n",
    "    MF = MatrixFactorization()\n",
    "    prediction_model = {}\n",
    "    rmst_dict = {\"0\":[],\n",
    "                     \"1\":[],\n",
    "                     \"2\":[],\n",
    "                     \"3\":[],\n",
    "                     \"4\":[],\n",
    "                     \"5\":[],\n",
    "                     \"6\":[],\n",
    "                     \"7\":[],\n",
    "                     \"8\":[],\n",
    "                     \"9\":[],\n",
    "                     \"10\":[]}\n",
    "    \n",
    "    val_item_list = find(validation_set)[0]\n",
    "    val_user_list = find(validation_set)[1]\n",
    "    user_node_ind = np.zeros(sMatrix.shape[1])                  #### notice that index is not id\n",
    "    \n",
    "    for level in lr_bound:\n",
    "        if int(level) <= 5:\n",
    "            continue \n",
    "        print(\"level:\", level)\n",
    "        prediction_model.setdefault(level, {})\n",
    "        train_lst = []       \n",
    "        for pseudo_user_bound, userid in zip(lr_bound[level], range(len(lr_bound[level]))):\n",
    "            if pseudo_user_bound[0] > pseudo_user_bound[1]:\n",
    "                continue\n",
    "            pseudo_user_lst = tree[pseudo_user_bound[0]:(pseudo_user_bound[1] + 1)]\n",
    "            pseudo_user_for_item = calculate_avg_rating_for_pesudo_user(pseudo_user_lst, sMatrix)\n",
    "            train_lst += [(userid, itemid, float(pseudo_user_for_item[itemid])) \\\n",
    "                          for itemid in range(pseudo_user_for_item.shape[0]) if pseudo_user_for_item[itemid]]    \n",
    "            #### find node index for each validation user ####\n",
    "            user_node_ind[pseudo_user_lst] = userid      \n",
    "\n",
    "        print(\"Rating Number of level \" + level + \": \" + str(len(train_lst)))\n",
    "        #### Train MF and Do validation ####\n",
    "        min_RMSE = -1\n",
    "        for plambda in plambda_candidates[level]:\n",
    "            print(\"Current plambda: \" + str(plambda))\n",
    "            MF.change_parameter(plambda)\n",
    "            user_profile, item_profile = MF.matrix_factorization(train_lst)\n",
    "            RMSE = pred_RMSE_for_validate_user(user_node_ind, user_profile, item_profile, val_user_list, val_item_list, validation_set)\n",
    "            rmst_dict[level].append(RMSE)\n",
    "            if min_RMSE is -1 or RMSE < min_RMSE:\n",
    "                min_RMSE = RMSE\n",
    "                min_user_profile, min_item_profile, min_lambda = user_profile, item_profile, plambda\n",
    "                \n",
    "        print(\"lambda: \" + str(plambda_candidates[level]))\n",
    "        print(\"RMSE: \" + str(rmst_dict[level]))\n",
    "\n",
    "        import matplotlib.pyplot as plt\n",
    "\n",
    "        plt.figure(1)\n",
    "        plt.title('RMSE for level ' + level)\n",
    "        plt.xlabel('plambda')\n",
    "        plt.ylabel('RMSE')\n",
    "        plt.plot(plambda_candidates[level], rmst_dict[level])\n",
    "        plt.show()\n",
    "\n",
    "        prediction_model[level]['upro'], prediction_model[level]['ipro'], prediction_model[level]['plambda'] \\\n",
    "                                             = min_user_profile, min_item_profile, min_lambda\n",
    "        print(\"level \" + level + \" training DONE\")\n",
    "    \n",
    "    MF.end()\n",
    "    return prediction_model"
   ]
  },
  {
   "cell_type": "markdown",
   "metadata": {},
   "source": [
    "## Load Tree from file"
   ]
  },
  {
   "cell_type": "code",
   "execution_count": null,
   "metadata": {
    "collapsed": true
   },
   "outputs": [],
   "source": [
    "import klepto\n",
    "import numpy as np\n",
    "Tree = klepto.archives.dir_archive('treeFile', {}, serialized=True)\n",
    "Tree.load()"
   ]
  },
  {
   "cell_type": "code",
   "execution_count": null,
   "metadata": {
    "collapsed": true
   },
   "outputs": [],
   "source": [
    "plambda_candidates = {\"0\":[0.005, 0.006, 0.007, 0.008, 0.009, 0.01, 0.015, 0.020, 0.03, 0.04],\n",
    "                     \"1\":[0.005, 0.006, 0.007, 0.008, 0.009, 0.01, 0.015, 0.020, 0.03, 0.04],\n",
    "                     \"2\":[0.005, 0.006, 0.007, 0.008, 0.009, 0.01, 0.015, 0.020, 0.03, 0.04],\n",
    "                     \"3\":[0.005, 0.006, 0.007, 0.008, 0.009, 0.01, 0.015, 0.020, 0.03, 0.04],\n",
    "                     \"4\":[0.002, 0.003, 0.004, 0.005, 0.006, 0.007, 0.008, 0.009, 0.01, 0.02],\n",
    "                     \"5\":[0.002, 0.003, 0.004, 0.005, 0.006, 0.007, 0.008, 0.009, 0.01, 0.02],\n",
    "                     \"6\":[0.01, 0.02, 0.03, 0.04, 0.05, 0.06, 0.07, 0.08, 0.09, 0.10, 0.11],\n",
    "                     \"7\":[0.01, 0.02, 0.03, 0.04, 0.05, 0.06, 0.07, 0.08, 0.09, 0.10, 0.11],\n",
    "                     \"8\":[0.02, 0.04, 0.06, 0.08, 0.10, 0.12, 0.14, 0.16, 0.18, 0.2, 0.22],\n",
    "                     \"9\":[0.02, 0.04, 0.06, 0.08, 0.10, 0.12, 0.14, 0.16, 0.18, 0.2, 0.22],\n",
    "                     \"10\":[0.02, 0.04, 0.06, 0.08, 0.10, 0.12, 0.14, 0.16, 0.18, 0.2, 0.22]}\n",
    "# for level in Tree[\"lr_bound\"]:\n",
    "#     plambda_candidates[level] = list(np.arange(0.001, 0.05, 0.005))    "
   ]
  },
  {
   "cell_type": "code",
   "execution_count": 8,
   "metadata": {
    "collapsed": false,
    "scrolled": true
   },
   "outputs": [
    {
     "ename": "NameError",
     "evalue": "name 'MatrixFactorization' is not defined",
     "output_type": "error",
     "traceback": [
      "\u001b[0;31m---------------------------------------------------------------------------\u001b[0m",
      "\u001b[0;31mNameError\u001b[0m                                 Traceback (most recent call last)",
      "\u001b[0;32m<ipython-input-8-b0b492d17afc>\u001b[0m in \u001b[0;36m<module>\u001b[0;34m()\u001b[0m\n\u001b[1;32m      1\u001b[0m prediction_model = generate_prediction_model             (Tree['lr_bound'],              Tree['tree'],              Tree['rI'],              rating_matrix_csc[:, start:end], \n\u001b[1;32m      2\u001b[0m              \u001b[0mplambda_candidates\u001b[0m\u001b[0;34m,\u001b[0m\u001b[0;34m\u001b[0m\u001b[0m\n\u001b[0;32m----> 3\u001b[0;31m              rating_matrix_val_csc)    \n\u001b[0m",
      "\u001b[0;32m<ipython-input-7-b04b11d9939c>\u001b[0m in \u001b[0;36mgenerate_prediction_model\u001b[0;34m(lr_bound, tree, rI, sMatrix, plambda_candidates, validation_set)\u001b[0m\n\u001b[1;32m     37\u001b[0m             }\n\u001b[1;32m     38\u001b[0m     '''\n\u001b[0;32m---> 39\u001b[0;31m     \u001b[0mMF\u001b[0m \u001b[0;34m=\u001b[0m \u001b[0mMatrixFactorization\u001b[0m\u001b[0;34m(\u001b[0m\u001b[0;34m)\u001b[0m\u001b[0;34m\u001b[0m\u001b[0m\n\u001b[0m\u001b[1;32m     40\u001b[0m     \u001b[0mprediction_model\u001b[0m \u001b[0;34m=\u001b[0m \u001b[0;34m{\u001b[0m\u001b[0;34m}\u001b[0m\u001b[0;34m\u001b[0m\u001b[0m\n\u001b[1;32m     41\u001b[0m     rmst_dict = {\"0\":[],\n",
      "\u001b[0;31mNameError\u001b[0m: name 'MatrixFactorization' is not defined"
     ]
    }
   ],
   "source": [
    "prediction_model = generate_prediction_model \\\n",
    "            (Tree['lr_bound'], \\\n",
    "             Tree['tree'], \\\n",
    "             Tree['rI'], \\\n",
    "             rating_matrix_csc[:, start:end], \n",
    "             plambda_candidates, \n",
    "             rating_matrix_val_csc)    "
   ]
  },
  {
   "cell_type": "code",
   "execution_count": 20,
   "metadata": {
    "collapsed": true
   },
   "outputs": [],
   "source": [
    "import klepto\n",
    "Tree = klepto.archives.dir_archive('treeFile', cached=True, serialized=True)\n",
    "Tree['prediction_model'] = prediction_model\n",
    "Tree.dump()\n",
    "Tree.clear()"
   ]
  },
  {
   "cell_type": "code",
   "execution_count": null,
   "metadata": {
    "collapsed": true
   },
   "outputs": [],
   "source": [
    "def RMSE(real_rating, pred_rating, rated_item):\n",
    "    \n",
    "    non_zeros = list(np.nonzero(real_rating)[0])\n",
    "    non_zeros = list(set(non_zeros).difference(set(rated_item)))\n",
    "    rmse = (np.sum((pred_rating[non_zeros].T[0]-real_rating[non_zeros])**2) / (len(non_zeros)))**0.5\n",
    "#     print(len(non_zeros))\n",
    "#     print(real_rating[non_zeros])\n",
    "#     print(pred_rating[non_zeros])\n",
    "#     print((pred_rating[non_zeros]-real_rating[non_zeros])**2)\n",
    "#     print(np.sum((pred_rating[non_zeros]-real_rating[non_zeros])**2))\n",
    "#     print((pred_rating[non_zeros]-real_rating[non_zeros]))\n",
    "#     print(rmse)\n",
    "    return rmse\n",
    "\n",
    "\n",
    "def predict(user_profile, item_profile):\n",
    "    ''' \n",
    "        user_profile: array {\n",
    "                        [k1, k2, k3, ... , kt]\n",
    "                    } profile for certain user\n",
    "        item_profile: dict {\n",
    "                        itemid1: [k1, k2, k3, ... , kt], \n",
    "                        itemid2: [k1, k2, k3, ... , kt], \n",
    "                        itemid3: [k1, k2, k3, ... , kt], \n",
    "                    } profile for items in each node\n",
    "     '''\n",
    "    #### Calculate predict rating ####\n",
    "    pred_rating = np.dot(item_profile, user_profile)\n",
    "    \n",
    "    return pred_rating\n",
    "\n",
    "def pred_RMSE_for_new_user(split_item, rI, prediction_model, sM_testing):\n",
    "    '''\n",
    "        sM_testing: 30% test dataset (sparse matrix)\n",
    "        split_item: list [\n",
    "                level 0: [112],\n",
    "                level 1: [48, 0, 79],\n",
    "                level 2: [15, 0, 17, 1, 1, 1, 61, 0, 50]\n",
    "                ...\n",
    "            ]\n",
    "        User: dict {\n",
    "                    userid1: { itemid11: rating11, itemid12: rating12, ... } rating of user 1\n",
    "                    userid2: { itemid21: rating21, itemid22: rating22, ... } rating of user 2\n",
    "                    userid3: ...\n",
    "                }\n",
    "        return : rmse value (float)\n",
    "    '''\n",
    "\n",
    "    sM_testing_0_discard = sM_testing[1:,:]\n",
    "    rmse = 0\n",
    "    for userid in range(sM_testing.shape[1]):\n",
    "        if userid % 100 == 0:\n",
    "            print(\"%.2f%%\" % (100 * userid / sM_testing.shape[1]))  \n",
    "        pred_index = 0\n",
    "        final_level = 0\n",
    "        rated_item = []\n",
    "        user_all_ratings = sM_testing[:,userid].nonzero()[0]\n",
    "#         print(\"Step1 start:\")\n",
    "        for level in range(len(split_item)):\n",
    "            if split_item[level][pred_index] not in user_all_ratings:\n",
    "                tmp_pred_index = 3*pred_index + 2\n",
    "                if tmp_pred_index in prediction_model[str(int(level)+1)]['upro']:\n",
    "                    final_level += 1\n",
    "                    pred_index = tmp_pred_index\n",
    "                else:\n",
    "                    break\n",
    "            elif sM_testing[split_item[level][pred_index], userid] >= 4:\n",
    "                tmp_pred_index = 3*pred_index\n",
    "                if tmp_pred_index in prediction_model[str(int(level)+1)]['upro']:\n",
    "                    rated_item.append(split_item[level][pred_index]-1)\n",
    "                    final_level += 1\n",
    "                    pred_index = tmp_pred_index\n",
    "                else:\n",
    "                    break\n",
    "            elif sM_testing[split_item[level][pred_index], userid] <= 3:\n",
    "                tmp_pred_index = 3*pred_index + 1\n",
    "                if tmp_pred_index in prediction_model[str(int(level)+1)]['upro']:\n",
    "                    rated_item.append(split_item[level][pred_index]-1)\n",
    "                    final_level += 1\n",
    "                    pred_index = tmp_pred_index\n",
    "                else:\n",
    "                    break        \n",
    "#         print(\"Step2 start:\")\n",
    "        pred_rating = predict(np.array(prediction_model[str(final_level)]['upro'][pred_index]), \\\n",
    "                                            np.array(list(prediction_model[str(final_level)]['ipro'].values()))) \n",
    "#         print(\"Step3 start:\")\n",
    "#         print(pred_rating)\n",
    "#         print(sM_testing_0_discard[:, userid].toarray())\n",
    "        rmse += RMSE(sM_testing_0_discard[:, userid].toarray(), pred_rating, rated_item)\n",
    "    return rmse / sM_testing.shape[1]\n",
    "#######################################################################################################"
   ]
  },
  {
   "cell_type": "code",
   "execution_count": null,
   "metadata": {
    "collapsed": true
   },
   "outputs": [],
   "source": [
    "import klepto\n",
    "import numpy as np\n",
    "Tree = klepto.archives.dir_archive('treeFile', {}, serialized=True)\n",
    "Tree.load()"
   ]
  },
  {
   "cell_type": "code",
   "execution_count": null,
   "metadata": {
    "collapsed": true
   },
   "outputs": [],
   "source": [
    "rmse_result = pred_RMSE_for_new_user(Tree['split_item'], Tree[\"rI\"], prediction_model, rating_matrix_csc[:, end:])"
   ]
  },
  {
   "cell_type": "code",
   "execution_count": 14,
   "metadata": {
    "collapsed": false
   },
   "outputs": [
    {
     "data": {
      "text/plain": [
       "1.1750985993864183"
      ]
     },
     "execution_count": 14,
     "metadata": {},
     "output_type": "execute_result"
    }
   ],
   "source": [
    "rmse_result"
   ]
  }
 ],
 "metadata": {
  "kernelspec": {
   "display_name": "Python 3",
   "language": "python",
   "name": "python3"
  },
  "language_info": {
   "codemirror_mode": {
    "name": "ipython",
    "version": 3
   },
   "file_extension": ".py",
   "mimetype": "text/x-python",
   "name": "python",
   "nbconvert_exporter": "python",
   "pygments_lexer": "ipython3",
   "version": "3.5.2"
  }
 },
 "nbformat": 4,
 "nbformat_minor": 2
}
