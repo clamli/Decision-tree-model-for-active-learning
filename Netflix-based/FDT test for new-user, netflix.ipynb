{
 "cells": [
  {
   "cell_type": "markdown",
   "metadata": {},
   "source": [
    "## FDTree Class"
   ]
  },
  {
   "cell_type": "code",
   "execution_count": 1,
   "metadata": {},
   "outputs": [],
   "source": [
    "import numpy as np\n",
    "import pickle\n",
    "from scipy.sparse import find\n",
    "\n",
    "class DecisionTreeModel:\n",
    "    def __init__(self, source, depth_threshold=10, plambda=7, MSP_item=200):\n",
    "        '''\n",
    "            sMatrix: I*U matrix\n",
    "            depth_threshold: terminate depth\n",
    "            plambda: regularization parameter\n",
    "            self.rI: dict { itemid1, itemid2, itemid3 ... }\n",
    "            self.rU: dict {\n",
    "                        userid1: { itemid11: rating11, itemid12: rating12, ... } rating of user 1\n",
    "                        userid2: { itemid21: rating21, itemid22: rating22, ... } rating of user 2\n",
    "                        userid3: ...\n",
    "                     }\n",
    "            self.lr_bound: dict {\n",
    "                                level 0: [[left_bound, right_bound]], users' bound for one level, each ele in dictionary represents one node\n",
    "                                level 1: [[left_bound, right_bound], [left_bound, right_bound], [left_bound, right_bound]], 3\n",
    "                                level 2: ..., 9\n",
    "                            } (bound means index)\n",
    "            self.tree: []  all of userid\n",
    "            self.split_item: list [\n",
    "                    level 0: []\n",
    "                    level 1: []\n",
    "                    level 2: []\n",
    "            ]\n",
    "            self.sum_cur_t: dict {\n",
    "                        itemid1: {'rating': sum of ratings for item 1, 'cnt': sum of users rated item 1}\n",
    "                        itemid2: {'rating': sum of ratings for item 2, 'cnt': sum of users rated item 2}\n",
    "                        ...\n",
    "                    }\n",
    "            self.sum_2_cur_t: dict {\n",
    "                        itemid1: sum of square ratings for item 1\n",
    "                        itemid2: sum of square ratings for item 2\n",
    "                        ...\n",
    "                    }\n",
    "            self.biasU: dict {\n",
    "                        userid1: bias1\n",
    "                        userid2: bias2\n",
    "                        ...\n",
    "                    }\n",
    "            every element represents ratings for one item, its order decide the users in tree nodes\n",
    "        '''\n",
    "        self.real_item_num = source.shape[0]\n",
    "        x = find(source)\n",
    "        itemset = x[0]\n",
    "        userset = x[1]\n",
    "        self.rU = {}\n",
    "        self.global_mean = 0  # global average of ratings   \n",
    "        self.depth_threshold = depth_threshold\n",
    "        self.plambda = plambda\n",
    "        self.cur_depth = 0\n",
    "        self.MSP_item = MSP_item\n",
    "\n",
    "        #### Calculate rate of progress ####\n",
    "        self.node_num = 0\n",
    "        self.cur_node = 0\n",
    "        for i in range(self.depth_threshold):\n",
    "            self.node_num += 3 ** i\n",
    "\n",
    "        #### Generate rI, rU ####\n",
    "        print(\"rU Generation start:\")\n",
    "        self.rI = list(set(source.nonzero()[0]))\n",
    "        i = 0\n",
    "        num_ratings = len(userset)\n",
    "        for itemid, userid in zip(itemset, userset):\n",
    "            if i % 10000 == 0:\n",
    "                print(\"%.2f%%\" % (100 * i / num_ratings))\n",
    "            i += 1\n",
    "            self.rU.setdefault(userid, {})[itemid] = source[itemid, userid]\n",
    "            self.global_mean += source[itemid, userid]\n",
    "        self.global_mean /= len(itemset)\n",
    "        self.item_size = len(self.rI)\n",
    "        self.user_size = len(self.rU)\n",
    "        print(\"rU Generation DONE\")\n",
    "\n",
    "        #### Initiate Tree, lr_bound ####\n",
    "        self.tree = list(self.rU.keys())\n",
    "        self.split_item = []\n",
    "        self.lr_bound = {'0': [[0, len(self.tree) - 1]]}\n",
    "\n",
    "        #### Generate bias, sum_cur_t, sum_2_cur_t ####\n",
    "        self.biasU = {}\n",
    "        self.sum_cur_t = np.zeros(self.real_item_num)\n",
    "        self.sum_2_cur_t = np.zeros(self.real_item_num)\n",
    "        self.sum_cntt = np.zeros(self.real_item_num)\n",
    "        print(\"bias, sum_cur_t, sum_2_cur_t Generation start:\")\n",
    "        i = 0\n",
    "        for userid in self.rU:\n",
    "            if i % 5000 == 0:\n",
    "                print(\"%.2f%%\" % (100 * i / (0.75 * 480189)))\n",
    "            i += 1\n",
    "            self.biasU[userid] = (sum(list(self.rU[userid].values())) \\\n",
    "                                     + self.plambda * self.global_mean) /   \\\n",
    "                                 (self.plambda + len(self.rU[userid]))\n",
    "            user_all_rating_id = np.array(list(self.rU[userid].keys()))\n",
    "            # print('user_all_rating_id ', user_all_rating_id[:])\n",
    "            user_all_rating = np.array(list(self.rU[userid].values()))\n",
    "            self.sum_cur_t[user_all_rating_id[:]] += user_all_rating[:] - self.biasU[userid]\n",
    "            self.sum_2_cur_t[user_all_rating_id[:]] += (user_all_rating[:] - self.biasU[userid]) ** 2\n",
    "            self.sum_cntt[user_all_rating_id[:]] += 1\n",
    "        print(\"bias, sum_cur_t, sum_2_cur_t Generation DONE\")\n",
    "\n",
    "        print(\"Initiation DONE!\")\n",
    "\n",
    "    def calculate_error(self, sumt, sumt_2, cntt):\n",
    "        ''' Calculate error for one item-split in one node '''\n",
    "        Error_i = np.sum(sumt_2 - (sumt ** 2) / (cntt + 1e-9))\n",
    "\n",
    "        return Error_i\n",
    "\n",
    "    def generate_decision_tree(self, lr_bound_for_node, chosen_id):\n",
    "        '''\n",
    "            sumtL: dict {\n",
    "                itemid1: {'rating': sum of ratings for item 1, 'cnt': sum of users rated item 1}\n",
    "                itemid2: {'rating': sum of ratings for item 2, 'cnt': sum of users rated item 2}\n",
    "                ...\n",
    "            }\n",
    "            sumtL_2: dict {\n",
    "                itemid1: sum of square ratings for item 1\n",
    "                itemid2: sum of square ratings for item 2\n",
    "                ...\n",
    "            }\n",
    "            lr_bound_for_node: list [leftind, rightind] for one node\n",
    "        '''\n",
    "\n",
    "        #### Terminate ####\n",
    "        self.cur_depth += 1\n",
    "        if self.cur_depth > self.depth_threshold or len(chosen_id) == self.item_size:\n",
    "            return\n",
    "\n",
    "        #### Choose Most Popular Items of This Node ####\n",
    "        num_rec = np.zeros(self.real_item_num)\n",
    "        for userid in self.tree[lr_bound_for_node[0]:(lr_bound_for_node[1] + 1)]:\n",
    "            user_all_rating_id = np.array(list(self.rU[userid].keys()))\n",
    "            num_rec[user_all_rating_id[:]] += 1\n",
    "        sub_item_id = np.argsort(num_rec)[:self.MSP_item]\n",
    "\n",
    "        #### Find optimum item to split ####\n",
    "        min_sumtL, min_sumtD, min_sumtL_2, min_sumtD_2, min_sumtU, min_sumtU_2, Error = {}, {}, {}, {}, {}, {}, {}\n",
    "        min_Error = \"None\"\n",
    "        for itemid in sub_item_id:\n",
    "            if itemid in chosen_id:\n",
    "                continue\n",
    "            '''\n",
    "                user_rating_item_in_nodet: [ [uid01, rating01], [uid02, rating02], ... ]\n",
    "                to find all users in node t who rates item i\n",
    "            '''\n",
    "            user_rating_item_in_nodet = ([userid, self.rU[userid][itemid]] for userid in\n",
    "                                         self.tree[lr_bound_for_node[0]:(lr_bound_for_node[1] + 1)] if\n",
    "                                         itemid in self.rU[userid])\n",
    "            sumt = np.zeros((self.real_item_num, 3))\n",
    "            sumt_2 = np.zeros((self.real_item_num, 3))\n",
    "            cntt = np.zeros((self.real_item_num, 3))\n",
    "            for user in user_rating_item_in_nodet:\n",
    "                ''' user_all_rating: array [ [itemid11, rating11], [itemid12, rating12], ... ] '''\n",
    "                user_all_rating_id = np.array(list(self.rU[user[0]].keys()))\n",
    "                user_all_rating = np.array(list(self.rU[user[0]].values()))\n",
    "                #### calculate sumtL for node LIKE ####\n",
    "                if user[1] >= 4:\n",
    "                    sumt[user_all_rating_id[:], 0] += user_all_rating[:] - self.biasU[user[0]]\n",
    "                    sumt_2[user_all_rating_id[:], 0] += (user_all_rating[:] - self.biasU[user[0]]) ** 2\n",
    "                    cntt[user_all_rating_id[:], 0] += 1\n",
    "                #### calculate sumtD for node DISLIKE ####\n",
    "                elif user[1] <= 3:\n",
    "                    sumt[user_all_rating_id[:], 1] += user_all_rating[:] - self.biasU[user[0]]\n",
    "                    sumt_2[user_all_rating_id[:], 1] += (user_all_rating[:] - self.biasU[user[0]]) ** 2\n",
    "                    cntt[user_all_rating_id[:], 1] += 1\n",
    "            #### calculate sumtU for node UNKNOWN ####\n",
    "            sumt[:, 2] = self.sum_cur_t[:] - sumt[:, 0] - sumt[:, 1]\n",
    "            sumt_2[:, 2] = self.sum_2_cur_t[:] - sumt_2[:, 0] - sumt_2[:, 1]\n",
    "            cntt[:, 2] = self.sum_cntt[:] - cntt[:, 0] - cntt[:, 1]\n",
    "            Error[itemid] = self.calculate_error(sumt, sumt_2, cntt)\n",
    "\n",
    "            if min_Error == \"None\" or Error[itemid] < min_Error:\n",
    "                min_sumt = sumt\n",
    "                min_sumt_2 = sumt_2\n",
    "                min_cntt = cntt\n",
    "                min_Error = Error[itemid]\n",
    "        #### Find optimum split-item ####\n",
    "        optimum_itemid = min(Error, key=Error.get)\n",
    "        if len(self.split_item) == self.cur_depth - 1:\n",
    "            self.split_item.append([optimum_itemid])\n",
    "        else:\n",
    "            self.split_item[self.cur_depth - 1].append(optimum_itemid)\n",
    "        # self.split_item.setdefault(str(self.cur_depth-1), []).append(optimum_itemid)\n",
    "        chosen_id.append(optimum_itemid)\n",
    "\n",
    "        #### sort tree ####\n",
    "        self.lr_bound.setdefault(str(self.cur_depth), []).append([])  # for LIKE\n",
    "        self.lr_bound[str(self.cur_depth)].append([])  # for DISLIKE\n",
    "        self.lr_bound[str(self.cur_depth)].append([])  # for UNKNOWN\n",
    "        listU, listL, listD = [], [], []\n",
    "        for userid in self.tree[lr_bound_for_node[0]:(lr_bound_for_node[1] + 1)]:\n",
    "            if optimum_itemid not in self.rU[userid]:\n",
    "                listU.append(userid)\n",
    "            elif self.rU[userid][optimum_itemid] >= 4:\n",
    "                listL.append(userid)\n",
    "            elif self.rU[userid][optimum_itemid] <= 3:\n",
    "                listD.append(userid)\n",
    "        self.tree[lr_bound_for_node[0]:(lr_bound_for_node[1] + 1)] = listL + listD + listU\n",
    "        self.lr_bound[str(self.cur_depth)][-3] = [lr_bound_for_node[0],\n",
    "                                                  lr_bound_for_node[0] + len(listL) - 1]  # for LIKE\n",
    "        self.lr_bound[str(self.cur_depth)][-2] = [lr_bound_for_node[0] + len(listL),\n",
    "                                                  lr_bound_for_node[0] + len(listL) + len(listD) - 1]  # for DISLIKE\n",
    "        self.lr_bound[str(self.cur_depth)][-1] = [lr_bound_for_node[0] + len(listL) + len(listD),\n",
    "                                                  lr_bound_for_node[0] + len(listL) + len(listD) + len(\n",
    "                                                      listU) - 1]  # for UNKNOWN\n",
    "\n",
    "        #### Generate Subtree of Node LIKE ####\n",
    "        self.sum_cur_t = min_sumt[:, 0]\n",
    "        self.sum_2_cur_t = min_sumt_2[:, 0]\n",
    "        self.sum_cntt = min_cntt[:, 0]\n",
    "        self.generate_decision_tree(self.lr_bound[str(self.cur_depth)][-3], chosen_id[:])\n",
    "        self.cur_depth -= 1\n",
    "\n",
    "        #### Generate Subtree of Node DISLIKE ####\n",
    "        self.sum_cur_t = min_sumt[:, 1]\n",
    "        self.sum_2_cur_t = min_sumt_2[:, 1]\n",
    "        self.sum_cntt = min_cntt[:, 1]\n",
    "        self.generate_decision_tree(self.lr_bound[str(self.cur_depth)][-2], chosen_id[:])\n",
    "        self.cur_depth -= 1\n",
    "\n",
    "        #### Generate Subtree of Node UNKNOWN ####\n",
    "        self.sum_cur_t = min_sumt[:, 2]\n",
    "        self.sum_2_cur_t = min_sumt_2[:, 2]\n",
    "        self.sum_cntt = min_cntt[:, 2]\n",
    "        self.generate_decision_tree(self.lr_bound[str(self.cur_depth)][-1], chosen_id[:])\n",
    "        self.cur_depth -= 1\n",
    "\n",
    "        #### Show Rating Progress ####\n",
    "        for i in range(self.cur_depth - 1):\n",
    "            print(\"┃\", end=\"\")\n",
    "        print(\"┏\", end=\"\")\n",
    "        self.cur_node += 1\n",
    "        print(\"Current depth: \" + str(self.cur_depth) + \"        %.2f%%\" % (100 * self.cur_node / self.node_num))\n",
    "\n",
    "    def build_model(self):\n",
    "        #### Construct the tree & get the prediction model ####\n",
    "        self.generate_decision_tree(self.lr_bound['0'][0], [])"
   ]
  },
  {
   "cell_type": "markdown",
   "metadata": {},
   "source": [
    "## Step 1: Input Dataset"
   ]
  },
  {
   "cell_type": "code",
   "execution_count": 4,
   "metadata": {},
   "outputs": [],
   "source": [
    "from scipy.sparse import load_npz"
   ]
  },
  {
   "cell_type": "code",
   "execution_count": 5,
   "metadata": {},
   "outputs": [
    {
     "name": "stdout",
     "output_type": "stream",
     "text": [
      "file load DONE\n"
     ]
    }
   ],
   "source": [
    "############### Load Data ##################\n",
    "rating_matrix_csc = load_npz('netflix/sparse_matrix_100%.npz').tocsc()\n",
    "print(\"file load DONE\")\n",
    "############################################"
   ]
  },
  {
   "cell_type": "markdown",
   "metadata": {},
   "source": [
    "## Tree Init"
   ]
  },
  {
   "cell_type": "code",
   "execution_count": 6,
   "metadata": {},
   "outputs": [],
   "source": [
    "''' Save to file 'tree.pkl' '''\n",
    "start = 0\n",
    "end = int(rating_matrix_csc.shape[1] * 0.75)"
   ]
  },
  {
   "cell_type": "code",
   "execution_count": null,
   "metadata": {},
   "outputs": [],
   "source": [
    "dtmodel_realdata = DecisionTreeModel(rating_matrix_csc[:, start:end], depth_threshold = 10)"
   ]
  },
  {
   "cell_type": "code",
   "execution_count": null,
   "metadata": {},
   "outputs": [],
   "source": [
    "del rating_matrix_csc"
   ]
  },
  {
   "cell_type": "code",
   "execution_count": null,
   "metadata": {},
   "outputs": [],
   "source": [
    "dtmodel_realdata.build_model()"
   ]
  },
  {
   "cell_type": "code",
   "execution_count": 18,
   "metadata": {},
   "outputs": [],
   "source": [
    "import klepto\n",
    "Tree = klepto.archives.dir_archive('treeFile', cached=True, serialized=True)"
   ]
  },
  {
   "cell_type": "code",
   "execution_count": 19,
   "metadata": {},
   "outputs": [],
   "source": [
    "Tree['lr_bound'] = dtmodel_realdata.lr_bound"
   ]
  },
  {
   "cell_type": "code",
   "execution_count": 21,
   "metadata": {},
   "outputs": [],
   "source": [
    "Tree['tree'] = dtmodel_realdata.tree"
   ]
  },
  {
   "cell_type": "code",
   "execution_count": 23,
   "metadata": {},
   "outputs": [],
   "source": [
    "Tree['split_item'] = dtmodel_realdata.split_item"
   ]
  },
  {
   "cell_type": "code",
   "execution_count": 25,
   "metadata": {},
   "outputs": [],
   "source": [
    "Tree['rI'] = dtmodel_realdata.rI"
   ]
  },
  {
   "cell_type": "code",
   "execution_count": 27,
   "metadata": {},
   "outputs": [],
   "source": [
    "Tree['rU'] = dtmodel_realdata.rU"
   ]
  },
  {
   "cell_type": "code",
   "execution_count": null,
   "metadata": {},
   "outputs": [],
   "source": [
    "Tree.dump()"
   ]
  },
  {
   "cell_type": "code",
   "execution_count": null,
   "metadata": {},
   "outputs": [],
   "source": [
    "d.clear()"
   ]
  },
  {
   "cell_type": "code",
   "execution_count": 4,
   "metadata": {},
   "outputs": [],
   "source": [
    "import klepto\n",
    "d = klepto.archives.dir_archive('tree', cached=True, serialized=True)\n",
    "d.load('tree')"
   ]
  },
  {
   "cell_type": "markdown",
   "metadata": {},
   "source": [
    "## remaining part"
   ]
  },
  {
   "cell_type": "code",
   "execution_count": null,
   "metadata": {},
   "outputs": [],
   "source": [
    "######################## Build Predict Model #########################\n",
    "plambda_candidates = {}\n",
    "inputf = open('./tree_data_structure/tree.pkl', 'rb')\n",
    "dtmodel_realdata = pickle.load(inputf)\n",
    "for level in dtmodel_realdata.lr_bound:\n",
    "\tplambda_candidates[level] = list(np.arange(0.001, 0.05, 0.0005))\n",
    "prediction_model = tf.generate_prediction_model(dtmodel_realdata, plambda_candidates, rating_matrix_csc[:, endt:end])\n",
    "######################################################################\n",
    "\n",
    "######################### Test for New-user ##########################\n",
    "rmse_result = tf.pred_RMSE_for_new_user(dtmodel_realdata, prediction_model, rating_matrix_csc[:, end:])\n",
    "######################################################################"
   ]
  }
 ],
 "metadata": {
  "kernelspec": {
   "display_name": "Python 3",
   "language": "python",
   "name": "python3"
  },
  "language_info": {
   "codemirror_mode": {
    "name": "ipython",
    "version": 3
   },
   "file_extension": ".py",
   "mimetype": "text/x-python",
   "name": "python",
   "nbconvert_exporter": "python",
   "pygments_lexer": "ipython3",
   "version": "3.6.2"
  }
 },
 "nbformat": 4,
 "nbformat_minor": 2
}
